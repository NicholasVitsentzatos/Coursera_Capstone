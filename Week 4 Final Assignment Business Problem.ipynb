{
 "cells": [
  {
   "cell_type": "markdown",
   "metadata": {},
   "source": [
    "In this notebook I am going to define the Business Problem of searching the different kind of venues in the streets of Athens. We will also explore the trends in the city,find out which types of shops are popular and find the ones that are most often observed. In the end of the notebook, given the research we will do, I will discuss in what type of category investor should focus on when opening a new shop and also if the shop should be a part of bigger company or a business chain "
   ]
  },
  {
   "cell_type": "markdown",
   "metadata": {},
   "source": [
    "The data I will be using are of course the Foursquare location services and informations and some of the most common libraries for python and visualization(generating"
   ]
  }
 ],
 "metadata": {
  "kernelspec": {
   "display_name": "Python 3",
   "language": "python",
   "name": "python3"
  },
  "language_info": {
   "codemirror_mode": {
    "name": "ipython",
    "version": 3
   },
   "file_extension": ".py",
   "mimetype": "text/x-python",
   "name": "python",
   "nbconvert_exporter": "python",
   "pygments_lexer": "ipython3",
   "version": "3.7.8"
  }
 },
 "nbformat": 4,
 "nbformat_minor": 4
}
